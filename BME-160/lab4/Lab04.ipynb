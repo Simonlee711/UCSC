{
 "cells": [
  {
   "cell_type": "markdown",
   "metadata": {
    "slideshow": {
     "slide_type": "slide"
    }
   },
   "source": [
    "# Lab 04 Files and Modules\n",
    "\n",
    "# Deliverables:\n",
    " - sequenceAnalysis.py module - 31 total points\n",
    " - classes included: \n",
    "     - NucParams, \n",
    "     - ProteinParams, \n",
    "     - FastAreader\n",
    " - genomeAnalyzer.py - 15 total points\n",
    " - Lab 4 notebook with Inspection Intro Cell and Inspection Results Cell completed( 4 pts)\n",
    " - possible extra credit - 10 additional points\n",
    " - Due: Monday Jan 31, 2022 11:55pm\n",
    "\n",
    "\n",
    "Congratulations. You have started to build an inventory of some pretty useful functions.  Because these are written as classes, you can easily reuse them. Your ProteinParam class is your first deposit into your very own sequenceAnalysis toolkit.  In Python, these toolkits are called modules.\n",
    "\n",
    "We are also going to start using real sequence files.  The fastA format, described here: en.wikipedia.org/wiki/FASTA_format is very convenient to use and fully capable of storing sequences of many types. You will be reading these from an input file for this assignment.\n",
    "\n",
    "## Genomic analysis\n",
    "\n",
    "There are a few things that we can do that mirror and extend the analyses that we did previously on protein sequences. We can calculate composition statistics on the genome (gc content for example), we can calculate relative codon usage in the genome, and we can calculate amino acid composition by translating those codons used the genome.\n",
    "\n",
    "For this lab, I have provided a NucParams class, with the required methods that it implements (see below). You will need to design and write those methods, and these are to be placed in a file called sequenceAnalysis.py This is a __*module*__ that you can use from now on.\n",
    "\n",
    "You will also need to place the ProteinParams class (Lab 3) into this module also. This class will not be used for this assignment, but place it into your toolbox.\n",
    "\n",
    "I have written the FastAreader class.  It is included (below). Keep it as is part of your module for now, you may decide to keep it somewhere else later.\n",
    "\n",
    "The input file for this assignment will be named testGenome.fa, and is available in Canvas. You will not need to submit testGenome.fa, but it will be necessary for your testing.  For development and testing, create a new directory (Lab04) and place the data file (testGenome.fa), your Lab04 notebook, your program (genomeAnalyzer.py) and your new module (sequenceAnalysis.py) into your Lab04 directory.\n",
    "\n",
    "\n",
    "## Hints\n",
    "\n",
    " - Python modules have the .py extension as files, but when they are imported, the name without the extension is used in the import statement in your program.\n",
    "\n",
    " - File placement: Make sure to place your notebook, program, sequenceAnalysis module and the required data files in the same folder. This will allow Python to find them. Read over the FastAreader usage to see how to specify file names that you can use for your data.\n",
    "\n",
    "## Codon frequency calculations\n",
    "\n",
    "Notice that NucParams does all of the counting you need. It is responsible for counts of codons and their translated amino acids.\n",
    "\n",
    "Your genomeAnalyzer.py program has the task of determining which codons are preferred for each of the amino acids and calculating the relative percentage.  For any given amino acid, the relative codon usage (percentages) should sum to 100.0%. Notice that Methionine and Tryptophan only have 1 codon that codes for those, so these will have relative codon usages of 100%.\n",
    "\n",
    "For example: Lysine is coded by both AAA (607) and AAG (917) (example counts in parentheses).  From our aaComposition() method, we are given the aaComposition dictionary and we can lookup 'K' to find 1524 counts (these came from those 607+917 codons).  We can then calculate 607/1524 for AAA and 917/1524 for AAG.  The associated percentages are thus: 39.8 for AAA and 60.2 for AAG.\n",
    "\n",
    "AAA = 607/1524 * 100 = 39.8%\n",
    "\n",
    "AAG = 917/1524 * 100 = 60.2%\n",
    "\n",
    "\n",
    "## Design specification - sequenceAnalysis.py\n",
    "\n",
    "### \\_\\_init\\_\\_\n",
    "\n",
    "The constructor of the class has one optional parameter, a sequence of type string. It may include upper or lower case letters of the set {ACGTUN} or whitespace.  These will be gene sequences and they begin in frame 1.  In other words the first 3 letters of the sequence encode the first AA of the sequence. Carefully consider in what form this class should maintain its data. Is a string the best structure? This class (NucParams) is intended to be very similar to ProteinParam. Make sure to read addSequence() before making this decision, and remember that objects of this class may need to handle an arbitrarily large number of sequences (hint:  dictionaries are good). As a second hint, notice that __init__ and addSequence are doing VERY similar things - you could just make one of them do most of the work.\n",
    "\n",
    "### addSequence() - 5 pts\n",
    "\n",
    "This method must accept new sequences, from the {ACGTUN} alphabet, and can be presumed to start in frame 1. This data must be added to the data that you were given with the __init__ method (if any).\n",
    "\n",
    "### aaComposition() - 6 pts\n",
    "\n",
    "This method will return a dictionary of counts over the 20 amino acids and stop codons.  This dictionary is VERY similar to the lab 3 aaComposition, though you must decode the codon first. The translation table from codon to AA is provided. You are counting amino acids by translating from the proper codon table.\n",
    "\n",
    "### nucComposition() - 10 pts\n",
    "\n",
    "This method returns a dictionary of counts of valid nucleotides found in the analysis. (ACGTNU}. If you were given RNA nucleotides, they should be counted as RNA nucleotides. If you were given DNA nucleotides, they should be counted as DNA nucleotides. Any N bases found should be counted also. Invalid bases are to be ignored in this dictionary.\n",
    "\n",
    "### codonComposition() - 10 pts\n",
    "\n",
    "This dictionary returns counts of codons. Presume that sequences start in frame 1, accept the alphabet {ACGTUN} and store codons in RNA format, along with their counts. __Any codons found with invalid bases should be discarded__. Discard codons that contain N bases. This means that all codon counts are stored as RNA codons, even if the input happens to be DNA. If you discard a codon, make sure to not alter the frame of subsequent codons.\n",
    "\n",
    "### nucCount()\n",
    "\n",
    "This returns an integer value, summing every valid nucleotide {ACGTUN} found.  This value should exactly equal the sum over the nucleotide composition dictionary."
   ]
  },
  {
   "cell_type": "markdown",
   "metadata": {
    "slideshow": {
     "slide_type": "slide"
    }
   },
   "source": [
    "## Design specification - genomeAnalyzer.py\n",
    "\n",
    "This program must import your sequenceAnalysis module.\n",
    "It is responsible for preparing the summaries and final display of the data.\n",
    "\n",
    "## Input must be from STDIN\n",
    "Your FastaReader object will read data from sys.stdin if it is not given a filename. You can specify a filename for your testing in jupyter and then remove that filename argument when you move to using standard files.\n",
    "\n",
    "You would replace:\n",
    "\n",
    "myReader = FastAreader('testGenome.fa') # make sure to change this in order to use stdin\n",
    "\n",
    "with:\n",
    "\n",
    "myReader = FastAreader() # make sure to change this in order to use stdin\n",
    "\n",
    "\n",
    "### Output format - 15 pts\n",
    "\n",
    "The function to output the results of your analysis has specific formatting rules that you must follow to get full credit. These rules are as follows:\n",
    "\n",
    " - First line: sequence length = X.XX Mb with two digits after the decimal and labeled Mb (you need to calculate the number of bases in Mb).\n",
    " - second line is blank\n",
    " - third line: GC content = XX.X% as a percentage with one digit after the decimal\n",
    " - fourth line is blank\n",
    " - lines 5 - 68 are the output statistics on relative codon usage for each codon ordered by codon within each amino acid group as follows:"
   ]
  },
  {
   "cell_type": "raw",
   "metadata": {},
   "source": [
    "XXX : A F (D)"
   ]
  },
  {
   "cell_type": "markdown",
   "metadata": {},
   "source": [
    "where XXX is the three letters for an RNA codon, A is the 1-letter amino acid code, F is relative codon frequency, use {:5.1f} for the format, and D is for codon count, use the format {:6d}. There is a single space between each of these fields.\n",
    "For example ( this is not representative of any real genome ):"
   ]
  },
  {
   "cell_type": "raw",
   "metadata": {},
   "source": [
    "sequence length = 3.14 Mb\n",
    "\n",
    "GC content = 60.2%\n",
    "\n",
    "UAA : -  32.6 (  1041)\n",
    "UAG : -  38.6 (  1230)\n",
    "UGA : -  28.8 (   918)\n",
    "GCA : A  14.1 ( 10605)\n",
    "GCC : A  40.5 ( 30524)\n",
    "GCG : A  30.5 ( 22991)\n",
    "GCU : A  14.9 ( 11238)\n",
    "UGC : C  67.2 (  4653)\n",
    "UGU : C  32.8 (  2270)\n",
    "\n",
    "..."
   ]
  },
  {
   "cell_type": "markdown",
   "metadata": {
    "slideshow": {
     "slide_type": "slide"
    }
   },
   "source": [
    "To get full credit on this assignment, your code needs to:\n",
    " - Run properly (execute and produce the correct output). \n",
    " - Include any assumptions or design decisions you made in writing your code\n",
    " - contain proper docstrings for the program, classes, modules and any public functions.\n",
    " - Contain in-line comments\n",
    " \n",
    "## Extra credit - 10 pts possible\n",
    "\n",
    "You now have a very powerful set of classes for evaluating genomes. Write a compareGenomes.py program that compares GC content, aaComposition and relative codon bias of 2 genomes. You will have a halophile genome and a hyperthermophile genome to compare.\n",
    "\n",
    "Submit your code using canvas\n",
    "\n",
    "Congratulations, you have finished your fourth lab assignment!"
   ]
  },
  {
   "cell_type": "markdown",
   "metadata": {
    "nteract": {
     "transient": {
      "deleting": false
     }
    }
   },
   "source": [
    "## Inspection Intro"
   ]
  },
  {
   "cell_type": "markdown",
   "metadata": {},
   "source": [
    "This lab was very fun because of the freedom we had in terms of designing our own main function. The genomeAnalyzer.py I think should have many implementations and I think it is great practice for what is to come in the field of bioinformatics. I will briefly describe the program. NucParams is a module that we will use in addition to fastAReader and ProtParams that will help us calculate statistics specifically this week for codons, and amino acids. So building NucParams builds a whole lot of dictionaries for analysis from DNA sequences coming from a fasta file. What I found cool about this design was that we went through all of molecular biology transcribing the DNA to RNA and going through translation converting codons to amino acis (proteins). In terms of genomeAnalyzer, I also throughly enjoyed making a object class that calculated the output statistics. It made me think about a nifty design and I was always taught in previous CS courses to keep the main as unflooded as possible., Therefore I made a function print statistics that does all the printing we need. Overall this assignment was fun and a big jump from the last."
   ]
  },
  {
   "cell_type": "markdown",
   "metadata": {
    "slideshow": {
     "slide_type": "slide"
    }
   },
   "source": [
    "## Nuc Params"
   ]
  },
  {
   "cell_type": "code",
   "execution_count": 58,
   "metadata": {
    "slideshow": {
     "slide_type": "slide"
    }
   },
   "outputs": [],
   "source": [
    "#!/usr/bin/env python3 \n",
    "# Name: Simon Lee (siaulee)\n",
    "# Group Members: Campbell Strand, Mateo Etcheveste, Jonathan Zau\n",
    "\n",
    "'''\n",
    "A module that performs a lot of counts for DNA, codons, and Amino acids\n",
    "'''\n",
    "\n",
    "class NucParams:\n",
    "    '''\n",
    "    The NucParams class constructs a multitude of counts using dictionaries\n",
    "    '''\n",
    "    rnaCodonTable = {\n",
    "    # RNA codon table\n",
    "    # U\n",
    "    'UUU': 'F', 'UCU': 'S', 'UAU': 'Y', 'UGU': 'C',  # UxU\n",
    "    'UUC': 'F', 'UCC': 'S', 'UAC': 'Y', 'UGC': 'C',  # UxC\n",
    "    'UUA': 'L', 'UCA': 'S', 'UAA': '-', 'UGA': '-',  # UxA\n",
    "    'UUG': 'L', 'UCG': 'S', 'UAG': '-', 'UGG': 'W',  # UxG\n",
    "    # C\n",
    "    'CUU': 'L', 'CCU': 'P', 'CAU': 'H', 'CGU': 'R',  # CxU\n",
    "    'CUC': 'L', 'CCC': 'P', 'CAC': 'H', 'CGC': 'R',  # CxC\n",
    "    'CUA': 'L', 'CCA': 'P', 'CAA': 'Q', 'CGA': 'R',  # CxA\n",
    "    'CUG': 'L', 'CCG': 'P', 'CAG': 'Q', 'CGG': 'R',  # CxG\n",
    "    # A\n",
    "    'AUU': 'I', 'ACU': 'T', 'AAU': 'N', 'AGU': 'S',  # AxU\n",
    "    'AUC': 'I', 'ACC': 'T', 'AAC': 'N', 'AGC': 'S',  # AxC\n",
    "    'AUA': 'I', 'ACA': 'T', 'AAA': 'K', 'AGA': 'R',  # AxA\n",
    "    'AUG': 'M', 'ACG': 'T', 'AAG': 'K', 'AGG': 'R',  # AxG\n",
    "    # G\n",
    "    'GUU': 'V', 'GCU': 'A', 'GAU': 'D', 'GGU': 'G',  # GxU\n",
    "    'GUC': 'V', 'GCC': 'A', 'GAC': 'D', 'GGC': 'G',  # GxC\n",
    "    'GUA': 'V', 'GCA': 'A', 'GAA': 'E', 'GGA': 'G',  # GxA\n",
    "    'GUG': 'V', 'GCG': 'A', 'GAG': 'E', 'GGG': 'G'  # GxG\n",
    "    }\n",
    "    dnaCodonTable = {key.replace('U','T'):value for key, value in rnaCodonTable.items()}\n",
    "\n",
    "    def __init__ (self, inString=''):\n",
    "        '''\n",
    "        Constructor Method for NucParams program. Constructs all ionaries taking optional user input\n",
    "        '''\n",
    "        # nucleotide bases Dictionary\n",
    "        self.validNuc = ['A','C','G','T','U','N']\n",
    "        self.nucComp = {nucleo: 0 for nucleo in self.validNuc}\n",
    "        \n",
    "        # builds a Dictionary for amino acids\n",
    "        self.aaComp = {amino: 0 for amino in NucParams.rnaCodonTable.values()}\n",
    "        \n",
    "        # builds a Dictionary for codons\n",
    "        self.codonComp = {codon: 0 for codon in NucParams.rnaCodonTable.keys()}\n",
    "        \n",
    "        self.addSequence(inString)\n",
    "        \n",
    "        \n",
    "    def addSequence (self, inSeq):\n",
    "        '''\n",
    "        Method that does all the intangibles of the code\n",
    "        '''\n",
    "        \n",
    "        # cleans up sequence\n",
    "        temp = ''.join(inSeq.upper()).split()\n",
    "        usr = ''.join(temp)\n",
    "        seq = ''\n",
    "        \n",
    "        # gets rid of invalid characters (non - ACTGUN) and counts nucleotide bases\n",
    "        for nucleo in usr:\n",
    "            if nucleo in self.nucComp.keys():\n",
    "                seq += str(nucleo)\n",
    "                self.nucComp[nucleo] += 1\n",
    "        \n",
    "        # transcribes DNA to RNA\n",
    "        seq = seq.replace(\"T\", \"U\")\n",
    "        \n",
    "        # constructs codon list within a sequence \n",
    "        codonsList = []\n",
    "        for i in range(0, len(seq), 3):\n",
    "            codonsList.append(seq[i:i+3])\n",
    "        \n",
    "        # translation from codon to amino acid\n",
    "        for codon in codonsList:\n",
    "            if codon in NucParams.rnaCodonTable.keys():\n",
    "                self.aaComp[NucParams.rnaCodonTable[codon]] += 1\n",
    "                self.codonComp[codon] += 1\n",
    "        \n",
    "        \n",
    "            \n",
    "    def aaComposition(self):\n",
    "        '''\n",
    "        returns a Dictionary of the amino acid counts\n",
    "        '''\n",
    "        return self.aaComp\n",
    "    def nucComposition(self):\n",
    "        '''\n",
    "        returns a Dictionary of counts of valid nucleotides found in the analysis. (ACGTNU}\n",
    "        '''\n",
    "        return self.nucComp\n",
    "    def codonComposition(self):\n",
    "        '''\n",
    "        returns a Dictionary that counts codons.\n",
    "        '''\n",
    "        return self.codonComp\n",
    "    def nucCount(self):\n",
    "        '''\n",
    "        returns an integer value, summing every valid nucleotide {ACGTUN} \n",
    "        '''\n",
    "        return sum(self.nucComp.values())"
   ]
  },
  {
   "cell_type": "markdown",
   "metadata": {
    "slideshow": {
     "slide_type": "slide"
    }
   },
   "source": [
    "## FastAreader"
   ]
  },
  {
   "cell_type": "code",
   "execution_count": 34,
   "metadata": {
    "collapsed": true,
    "slideshow": {
     "slide_type": "slide"
    }
   },
   "outputs": [],
   "source": [
    "#!/usr/bin/env python3 \n",
    "# Name: Simon Lee (siaulee)\n",
    "# Group Members: Campbell Strand, Mateo Etcheveste, Jonathan Zau\n",
    "\n",
    "import sys\n",
    "class FastAreader :\n",
    "    ''' \n",
    "    Define objects to read FastA files.\n",
    "    \n",
    "    instantiation: \n",
    "    thisReader = FastAreader ('testTiny.fa')\n",
    "    usage:\n",
    "    for head, seq in thisReader.readFasta():\n",
    "        print (head,seq)\n",
    "    '''\n",
    "    def __init__ (self, fname=''):\n",
    "        '''contructor: saves attribute fname '''\n",
    "        self.fname = fname\n",
    "            \n",
    "    def doOpen (self):\n",
    "        ''' Handle file opens, allowing STDIN.'''\n",
    "        if self.fname is '':\n",
    "            return sys.stdin\n",
    "        else:\n",
    "            return open(self.fname)\n",
    "        \n",
    "    def readFasta (self):\n",
    "        ''' Read an entire FastA record and return the sequence header/sequence'''\n",
    "        header = ''\n",
    "        sequence = ''\n",
    "        \n",
    "        with self.doOpen() as fileH:\n",
    "            \n",
    "            header = ''\n",
    "            sequence = ''\n",
    "            \n",
    "            # skip to first fasta header\n",
    "            line = fileH.readline()\n",
    "            while not line.startswith('>') :\n",
    "                line = fileH.readline()\n",
    "            header = line[1:].rstrip()\n",
    "\n",
    "            for line in fileH:\n",
    "                if line.startswith ('>'):\n",
    "                    yield header,sequence\n",
    "                    header = line[1:].rstrip()\n",
    "                    sequence = ''\n",
    "                else :\n",
    "                    sequence += ''.join(line.rstrip().split()).upper()\n",
    "\n",
    "        yield header,sequence\n"
   ]
  },
  {
   "cell_type": "markdown",
   "metadata": {
    "slideshow": {
     "slide_type": "slide"
    }
   },
   "source": [
    "## Main \n",
    "Here is a jupyter framework that may come in handy"
   ]
  },
  {
   "cell_type": "code",
   "execution_count": null,
   "metadata": {
    "slideshow": {
     "slide_type": "slide"
    }
   },
   "outputs": [],
   "source": [
    "def main (fileName=None):\n",
    "    myReader = FastAreader(fileName) \n",
    "    myNuc = NucParams()\n",
    "    for head, seq in myReader.readFasta() :\n",
    "        myNuc.addSequence(seq)\n",
    "        \n",
    "    # sort codons in alpha order, by Amino Acid\n",
    "    \n",
    "    # calculate relative codon usage for each codon and print\n",
    "    for nucI in nucs:\n",
    "        ...\n",
    "        print ('{:s} : {:s} {:5.1f} ({:6d})'.format(nuc, aa, val*100, thisCodonComp[nuc]))\n",
    "\n",
    "if __name__ == \"__main__\":\n",
    "    main('testGenome.fa') # make sure to change this in order to use stdin\n",
    "    "
   ]
  },
  {
   "cell_type": "markdown",
   "metadata": {},
   "source": [
    "# genomeAnalyzer.py"
   ]
  },
  {
   "cell_type": "code",
   "execution_count": 1,
   "metadata": {},
   "outputs": [
    {
     "name": "stdout",
     "output_type": "stream",
     "text": [
      "sequence length = 2.21 Mb\n",
      "\n",
      "GC content = 55.7%\n",
      "\n",
      "UAA : -  32.6% (  1041)\n",
      "UGA : -  28.8% (   918)\n",
      "UAG : -  38.6% (  1230)\n",
      "GCU : A  14.9% ( 11238)\n",
      "GCC : A  40.5% ( 30524)\n",
      "GCA : A  14.1% ( 10605)\n",
      "GCG : A  30.5% ( 22991)\n",
      "UGU : C  32.8% (  2270)\n",
      "UGC : C  67.2% (  4653)\n",
      "GAU : D  29.2% (  9372)\n",
      "GAC : D  70.8% ( 22686)\n",
      "GAA : E  23.0% ( 11602)\n",
      "GAG : E  77.0% ( 38951)\n",
      "UUU : F  39.6% ( 10404)\n",
      "UUC : F  60.4% ( 15880)\n",
      "GGU : G   9.3% (  5294)\n",
      "GGC : G  47.9% ( 27193)\n",
      "GGA : G  13.5% (  7651)\n",
      "GGG : G  29.3% ( 16664)\n",
      "CAU : H  20.4% (  2334)\n",
      "CAC : H  79.6% (  9089)\n",
      "AUU : I  24.8% (  9986)\n",
      "AUC : I  30.1% ( 12096)\n",
      "AUA : I  45.1% ( 18134)\n",
      "AAA : K  32.8% ( 12810)\n",
      "AAG : K  67.2% ( 26206)\n",
      "UUA : L   8.0% (  6190)\n",
      "UUG : L  17.3% ( 13335)\n",
      "CUU : L  14.7% ( 11393)\n",
      "CUC : L  23.6% ( 18242)\n",
      "CUA : L  15.2% ( 11753)\n",
      "CUG : L  21.2% ( 16349)\n",
      "AUG : M 100.0% ( 13577)\n",
      "AAU : N  25.4% (  4423)\n",
      "AAC : N  74.6% ( 12962)\n",
      "CCU : P  17.9% (  6690)\n",
      "CCC : P  35.5% ( 13275)\n",
      "CCA : P  16.4% (  6142)\n",
      "CCG : P  30.2% ( 11301)\n",
      "CAA : Q  37.5% (  5738)\n",
      "CAG : Q  62.5% (  9544)\n",
      "CGU : R   4.5% (  2237)\n",
      "CGC : R  14.4% (  7139)\n",
      "CGA : R   2.8% (  1400)\n",
      "CGG : R  10.8% (  5346)\n",
      "AGA : R  21.5% ( 10672)\n",
      "AGG : R  46.1% ( 22871)\n",
      "UCU : S  17.5% (  6253)\n",
      "UCC : S  19.7% (  7062)\n",
      "UCA : S  10.6% (  3790)\n",
      "UCG : S  20.1% (  7189)\n",
      "AGU : S   6.7% (  2383)\n",
      "AGC : S  25.5% (  9139)\n",
      "ACU : T  18.7% (  6029)\n",
      "ACC : T  28.7% (  9253)\n",
      "ACA : T  22.7% (  7308)\n",
      "ACG : T  29.9% (  9655)\n",
      "GUU : V  16.0% ( 11698)\n",
      "GUC : V  22.8% ( 16617)\n",
      "GUA : V  18.2% ( 13288)\n",
      "GUG : V  43.0% ( 31384)\n",
      "UGG : W 100.0% ( 10915)\n",
      "UAU : Y  26.4% (  8196)\n",
      "UAC : Y  73.6% ( 22872)\n"
     ]
    }
   ],
   "source": [
    "#!/usr/bin/env python3 \n",
    "# Name: Simon Lee (siaulee)\n",
    "# Group Members: Campbell Strand, Mateo Etcheveste, Jonathan Zau\n",
    "\n",
    "'''\n",
    "A program that prints statistics of FastA file\n",
    "'''\n",
    "\n",
    "from sequenceAnalysis import ProteinParam, NucParams, FastAreader\n",
    "\n",
    "class genomeAnalyzer:\n",
    "    \"\"\"\n",
    "    This Program calculates codon usage, sequence size, gcContent\n",
    "    \"\"\"\n",
    "    def __init__(self, filename='testGenome.fa'):\n",
    "        '''\n",
    "        Constructor for genomeAnalyzer\n",
    "        '''\n",
    "        self.filename = filename\n",
    "        \n",
    "        \n",
    "    def mb_calculator (self, fastaFile):\n",
    "        '''\n",
    "        This function calculates the megabases of a DNA sequence\n",
    "        '''\n",
    "        \n",
    "        #Professors main code, reads in fasta file. Changed variables for readability\n",
    "        nucleotides = NucParams()\n",
    "        for head, seq in fastaFile.readFasta():\n",
    "            nucleotides.addSequence(seq)\n",
    "\n",
    "        megaBase = nucleotides.nucCount()/ 1000000\n",
    "\n",
    "        return megaBase, nucleotides\n",
    "    \n",
    "    def gc_pct(self, nucSeq):\n",
    "        '''\n",
    "        Method that calculates GC percentage within a sequence\n",
    "        '''\n",
    "        nucleotides = nucSeq.nucComposition()\n",
    "        gc_count = nucleotides['G'] + nucleotides['C']\n",
    "        return gc_count / nucSeq.nucCount() * 100\n",
    "    \n",
    "    def codonStats(self, codons, nucParams):\n",
    "        '''\n",
    "        Method that returns codon stats:\n",
    "        -codon\n",
    "        -amino acid\n",
    "        -codon count\n",
    "        -final percentage\n",
    "        '''\n",
    "        # labmda expression to get dictionary sorted correctly\n",
    "        dict_ = dict(sorted(nucParams.rnaCodonTable.items(), key=lambda item: item[1])) \n",
    "        sort_codon = list(dict_.keys())\n",
    "        aa = []\n",
    "        aa_count = []\n",
    "        codon_count = []\n",
    "        for codon in sort_codon:\n",
    "            \n",
    "            aa.append(nucParams.rnaCodonTable[codon])\n",
    "            aa_count.append(nucParams.aaComp[nucParams.rnaCodonTable[codon]])\n",
    "            codon_count.append(codons[codon])\n",
    "            \n",
    "        fpct = []\n",
    "        for i in range(len(sort_codon)):\n",
    "            if codon_count[i] > 0:\n",
    "                fpct.append((codon_count[i]/aa_count[i])*100)\n",
    "                continue\n",
    "            else:\n",
    "                fpct.append(codon_count[i]/1) *100\n",
    "                continue\n",
    "        \n",
    "        return sort_codon, aa, codon_count, fpct \n",
    "            \n",
    "    \n",
    "    def print_stats(self):\n",
    "        '''\n",
    "        A method that prints all relevant statistics needed for the program\n",
    "        '''\n",
    "        self.myReader = FastAreader(self.filename)\n",
    "        \n",
    "        mb, nucParams = self.mb_calculator(self.myReader)\n",
    "        GC_pct = self.gc_pct(nucParams)\n",
    "        \n",
    "        print(\"sequence length = \"+ str(round(mb,2)) +\" Mb\\n\")\n",
    "        print(\"GC content = \"+ str(round(GC_pct,1)) + \"%\\n\")\n",
    "        \n",
    "        codons = nucParams.codonComposition()\n",
    "        codon, aa, c_count, fpct = self.codonStats(codons, nucParams)\n",
    "        \n",
    "        done = False\n",
    "        i = 0\n",
    "        loopLength = len(codon)\n",
    "        while not done:\n",
    "            print('{} : {} {:5.1f}% ({:6d})'.format(codon[i], aa[i], fpct[i], c_count[i]))\n",
    "            i += 1\n",
    "            if loopLength <= i:\n",
    "                done = True\n",
    "            \n",
    "\n",
    "def main (fileName=None):\n",
    "    '''\n",
    "    Main Driver of the code\n",
    "    '''\n",
    "    file_content = genomeAnalyzer()\n",
    "    file_content.print_stats()\n",
    "    \n",
    "if __name__ == \"__main__\":\n",
    "    main('testGenome.fa')\n"
   ]
  },
  {
   "cell_type": "markdown",
   "metadata": {
    "nteract": {
     "transient": {
      "deleting": false
     }
    }
   },
   "source": [
    "## Inspection Results"
   ]
  },
  {
   "cell_type": "markdown",
   "metadata": {},
   "source": [
    "Jonathan (Jan 31) - Simon's code has always functioned properly, and was always quite easy to read. It's difficult to give critique to code that is at a higher level of understanding than I am currently at. However, Simon has improved upon his use of docstrings and comments. Even though, at first glance, I couldn't follow his code, his docstrings and comments helped immensely with readability."
   ]
  },
  {
   "cell_type": "markdown",
   "metadata": {},
   "source": [
    "Cambell (Jan 31) - Simon's code was very helpful in looking through for my implementation. He does use his previous knowledge a lot but it is nice to see a glimpse of his code to get a sense of direction with mine. His code is always helpful to read with all the comments he provides."
   ]
  },
  {
   "cell_type": "markdown",
   "metadata": {},
   "source": [
    "Mateo (Jan 31) - I thought Simon's code was very well designed. I say that because he always takes such a simple approach using very limited lines of code to complete these assignments. It also helps me see concepts that I have never seen and make me interested on how I could simplify my own code. Good work here."
   ]
  }
 ],
 "metadata": {
  "kernelspec": {
   "display_name": "Python 3",
   "language": "python",
   "name": "python3"
  },
  "language_info": {
   "codemirror_mode": {
    "name": "ipython",
    "version": 3
   },
   "file_extension": ".py",
   "mimetype": "text/x-python",
   "name": "python",
   "nbconvert_exporter": "python",
   "pygments_lexer": "ipython3",
   "version": "3.8.8"
  },
  "nteract": {
   "version": "0.28.0"
  }
 },
 "nbformat": 4,
 "nbformat_minor": 2
}
